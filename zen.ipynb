{
 "cells": [
  {
   "metadata": {},
   "cell_type": "markdown",
   "source": [
    "# Zonal Exchange Network\n",
    "ZEN（Zonal Exchange Network） 是一个原创的水文模型，用于模拟流域内的水文过程。ZEN使用神经网络来描述产汇流过程。"
   ],
   "id": "5f4008014cc71dce"
  },
  {
   "metadata": {
    "ExecuteTime": {
     "end_time": "2024-11-04T15:11:54.447501Z",
     "start_time": "2024-11-04T15:11:54.381446Z"
    }
   },
   "cell_type": "code",
   "source": [
    "# 自动加载模块\n",
    "%load_ext autoreload\n",
    "%autoreload 2"
   ],
   "id": "d34fbc19312b9e35",
   "outputs": [
    {
     "name": "stdout",
     "output_type": "stream",
     "text": [
      "The autoreload extension is already loaded. To reload it, use:\n",
      "  %reload_ext autoreload\n"
     ]
    }
   ],
   "execution_count": 32
  },
  {
   "metadata": {},
   "cell_type": "markdown",
   "source": "## 1. 数据处理",
   "id": "fb837cc32bc89b3b"
  },
  {
   "metadata": {
    "ExecuteTime": {
     "end_time": "2024-11-04T15:11:54.680009Z",
     "start_time": "2024-11-04T15:11:54.519543Z"
    }
   },
   "cell_type": "code",
   "source": [
    "from hydronetwork.data.camels_us import load_timeseries\n",
    "from hydronetwork.dataset.preprocessing import split_timeseries\n",
    "from hydronetwork.dataset.dataset import get_dataset\n",
    "\n",
    "lookback = 365\n",
    "horizon = 7\n",
    "timeseries = load_timeseries(gauge_id='13023000', unit=\"mm/day\")\n",
    "timeseries.columns"
   ],
   "id": "8375ddf5a87d68cf",
   "outputs": [
    {
     "data": {
      "text/plain": [
       "Index(['prcp(mm/day)', 'srad(W/m2)', 'tmax(C)', 'tmin(C)', 'vp(Pa)',\n",
       "       'streamflow'],\n",
       "      dtype='object', name='timeseries_type')"
      ]
     },
     "execution_count": 33,
     "metadata": {},
     "output_type": "execute_result"
    }
   ],
   "execution_count": 33
  },
  {
   "metadata": {},
   "cell_type": "markdown",
   "source": "对['srad(W/m2)', 'tmax(C)', 'tmin(C)', 'vp(Pa)']进行归一化",
   "id": "a9fa419d215db6d9"
  },
  {
   "metadata": {
    "ExecuteTime": {
     "end_time": "2024-11-04T15:11:54.859413Z",
     "start_time": "2024-11-04T15:11:54.751981Z"
    }
   },
   "cell_type": "code",
   "source": [
    "from hydronetwork.dataset.preprocessing import normalize\n",
    "\n",
    "timeseries_need_normalize = timeseries[['srad(W/m2)', 'tmax(C)', 'tmin(C)', 'vp(Pa)']]\n",
    "timeseries_normalized = normalize(timeseries_need_normalize)\n",
    "timeseries = timeseries.drop(columns=['srad(W/m2)', 'tmax(C)', 'tmin(C)', 'vp(Pa)'])\n",
    "timeseries = timeseries.join(timeseries_normalized)"
   ],
   "id": "cefc0e3a4f5020b4",
   "outputs": [],
   "execution_count": 34
  },
  {
   "metadata": {},
   "cell_type": "markdown",
   "source": "构建数据集",
   "id": "2445ed5c281b6a4c"
  },
  {
   "metadata": {
    "ExecuteTime": {
     "end_time": "2024-11-04T15:11:54.989082Z",
     "start_time": "2024-11-04T15:11:54.871415Z"
    }
   },
   "cell_type": "code",
   "source": [
    "train_data, test_data = split_timeseries(timeseries, split_list=[0.8, 0.2])\n",
    "train_dataset = get_dataset(train_data, \n",
    "                            lookback=lookback, \n",
    "                            horizon=horizon, \n",
    "                            batch_size=2048, \n",
    "                            features_bidirectional=['prcp(mm/day)', 'srad(W/m2)', 'tmax(C)', 'tmin(C)', 'vp(Pa)'],\n",
    "                            target=\"streamflow\"\n",
    "                            )\n",
    "test_dataset = get_dataset(test_data,\n",
    "                            lookback=lookback,\n",
    "                            horizon=horizon,\n",
    "                            batch_size=2048,\n",
    "                            features_bidirectional=['prcp(mm/day)', 'srad(W/m2)', 'tmax(C)', 'tmin(C)', 'vp(Pa)'],\n",
    "                            target=\"streamflow\"\n",
    "                            )"
   ],
   "id": "c96cd9dcb0b4d11a",
   "outputs": [],
   "execution_count": 35
  },
  {
   "metadata": {},
   "cell_type": "markdown",
   "source": "## 2. 模型构建",
   "id": "d4a7a6027ff66b4c"
  },
  {
   "metadata": {
    "ExecuteTime": {
     "end_time": "2024-11-04T15:11:55.077178Z",
     "start_time": "2024-11-04T15:11:55.001161Z"
    }
   },
   "cell_type": "code",
   "source": [
    "from hydronetwork.model import ZonalExchangeNet\n",
    "\n",
    "model = ZonalExchangeNet(m=3,\n",
    "                         n=64,\n",
    "                         n_mix_steps=3,\n",
    "                         water_capacity_max=120,\n",
    "                         layer_units=[16, 8, 1],\n",
    "                         horizon=horizon, )"
   ],
   "id": "f57a9be3fcd9b30f",
   "outputs": [],
   "execution_count": 36
  },
  {
   "metadata": {},
   "cell_type": "markdown",
   "source": "## 3. 模型训练",
   "id": "6dc1c1ab11dfa940"
  },
  {
   "metadata": {
    "jupyter": {
     "is_executing": true
    },
    "ExecuteTime": {
     "start_time": "2024-11-04T15:11:55.089210Z"
    }
   },
   "cell_type": "code",
   "source": [
    "from hydronetwork.train import WarmupExponentialDecay, callback_for_features_selection\n",
    "from hydronetwork.evaluate.metric import rmse, nse\n",
    "from keras.src.optimizers import AdamW\n",
    "\n",
    "model.compile(optimizer=AdamW(learning_rate=WarmupExponentialDecay(dataset_length=len(train_dataset),\n",
    "                                                                   initial_learning_rate=1e-4, )),\n",
    "              loss=nse,\n",
    "              metrics=[rmse]\n",
    "              )\n",
    "model.fit(train_dataset,\n",
    "          epochs=60,\n",
    "          verbose=1,\n",
    "          shuffle=True,\n",
    "          validation_data=test_dataset,\n",
    "          callbacks=callback_for_features_selection())"
   ],
   "id": "bbd1bdf503a31aa3",
   "outputs": [
    {
     "name": "stdout",
     "output_type": "stream",
     "text": [
      "Epoch 1/60\n",
      "\u001B[1m5/5\u001B[0m \u001B[32m━━━━━━━━━━━━━━━━━━━━\u001B[0m\u001B[37m\u001B[0m \u001B[1m195s\u001B[0m 39s/step - loss: 16.1970 - rmse: 5.9008 - val_loss: 61.5527 - val_rmse: 5.6272\n",
      "Epoch 2/60\n",
      "\u001B[1m1/5\u001B[0m \u001B[32m━━━━\u001B[0m\u001B[37m━━━━━━━━━━━━━━━━\u001B[0m \u001B[1m2:30\u001B[0m 38s/step - loss: 12.2038 - rmse: 3.7291"
     ]
    }
   ],
   "execution_count": null
  }
 ],
 "metadata": {
  "kernelspec": {
   "display_name": "Python 3",
   "language": "python",
   "name": "python3"
  },
  "language_info": {
   "codemirror_mode": {
    "name": "ipython",
    "version": 2
   },
   "file_extension": ".py",
   "mimetype": "text/x-python",
   "name": "python",
   "nbconvert_exporter": "python",
   "pygments_lexer": "ipython2",
   "version": "2.7.6"
  }
 },
 "nbformat": 4,
 "nbformat_minor": 5
}
