{
 "cells": [
  {
   "metadata": {},
   "cell_type": "markdown",
   "source": [
    "# Zonal Exchange Network\n",
    "ZEN（Zonal Exchange Network） 是一个原创的水文模型，整个模型完全用神经网络搭建。ZEN模型初步将我们对水文过程的理解嵌入到了神经网络中。ZEN模型"
   ],
   "id": "22395852c9cdcad6"
  }
 ],
 "metadata": {
  "kernelspec": {
   "display_name": "Python 3",
   "language": "python",
   "name": "python3"
  },
  "language_info": {
   "codemirror_mode": {
    "name": "ipython",
    "version": 2
   },
   "file_extension": ".py",
   "mimetype": "text/x-python",
   "name": "python",
   "nbconvert_exporter": "python",
   "pygments_lexer": "ipython2",
   "version": "2.7.6"
  }
 },
 "nbformat": 4,
 "nbformat_minor": 5
}
