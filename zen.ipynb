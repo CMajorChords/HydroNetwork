{
 "cells": [
  {
   "metadata": {},
   "cell_type": "markdown",
   "source": [
    "# Zonal Exchange Network\n",
    "ZEN（Zonal Exchange Network） 是一个原创的水文模型，用于模拟流域内的水文过程。ZEN使用神经网络来描述产汇流过程。"
   ],
   "id": "5f4008014cc71dce"
  },
  {
   "metadata": {
    "ExecuteTime": {
     "end_time": "2024-11-03T11:58:52.762284Z",
     "start_time": "2024-11-03T11:58:52.677494Z"
    }
   },
   "cell_type": "code",
   "source": [
    "# 自动加载模块\n",
    "%load_ext autoreload\n",
    "%autoreload 2"
   ],
   "id": "d34fbc19312b9e35",
   "outputs": [
    {
     "name": "stdout",
     "output_type": "stream",
     "text": [
      "The autoreload extension is already loaded. To reload it, use:\n",
      "  %reload_ext autoreload\n"
     ]
    }
   ],
   "execution_count": 52
  },
  {
   "metadata": {},
   "cell_type": "markdown",
   "source": "## 1. 数据处理",
   "id": "fb837cc32bc89b3b"
  },
  {
   "metadata": {
    "ExecuteTime": {
     "end_time": "2024-11-03T11:58:54.887014Z",
     "start_time": "2024-11-03T11:58:52.838369Z"
    }
   },
   "cell_type": "code",
   "source": [
    "from hydronetwork.data.camels_us_hourly import load_timeseries\n",
    "from hydronetwork.dataset.preprocessing import split_timeseries\n",
    "from hydronetwork.dataset.dataset import get_dataset\n",
    "\n",
    "lookback = 168\n",
    "horizon = 5\n",
    "timeseries = load_timeseries(gauge_id='13023000', unit=\"mm/h\")\n",
    "train_timeseries, test_timeseries = split_timeseries(timeseries, split_list=[0.8, 0.2])\n",
    "train_dataset = get_dataset(train_timeseries, use_multiprocessing=True, batch_size=512,\n",
    "                            features_bidirectional=['total_precipitation', 'potential_evaporation'],\n",
    "                            target=\"streamflow\", lookback=lookback, horizon=horizon)\n",
    "test_dataset = get_dataset(test_timeseries, use_multiprocessing=True, batch_size=512,\n",
    "                           features_bidirectional=['total_precipitation', 'potential_evaporation'],\n",
    "                           target=\"streamflow\", lookback=lookback, horizon=horizon)"
   ],
   "id": "8375ddf5a87d68cf",
   "outputs": [],
   "execution_count": 53
  },
  {
   "metadata": {},
   "cell_type": "markdown",
   "source": "## 2. 模型构建",
   "id": "d4a7a6027ff66b4c"
  },
  {
   "metadata": {
    "ExecuteTime": {
     "end_time": "2024-11-03T11:58:54.986435Z",
     "start_time": "2024-11-03T11:58:54.900527Z"
    }
   },
   "cell_type": "code",
   "source": [
    "from hydronetwork.model import ZonalExchangeNet\n",
    "\n",
    "model = ZonalExchangeNet(m=3,\n",
    "                         n=16,\n",
    "                         n_mix_steps=2,\n",
    "                         water_capacity_max=60,\n",
    "                         layer_units=[16, 8, 1],\n",
    "                         horizon=horizon, )"
   ],
   "id": "f57a9be3fcd9b30f",
   "outputs": [],
   "execution_count": 54
  },
  {
   "metadata": {},
   "cell_type": "markdown",
   "source": "## 3. 模型训练",
   "id": "6dc1c1ab11dfa940"
  },
  {
   "metadata": {
    "jupyter": {
     "is_executing": true
    },
    "ExecuteTime": {
     "start_time": "2024-11-03T11:58:54.999291Z"
    }
   },
   "cell_type": "code",
   "source": [
    "from hydronetwork.train import WarmupExponentialDecay, callback_for_features_selection\n",
    "from hydronetwork.evaluate.metric import rmse, nse\n",
    "from keras.src.optimizers import AdamW\n",
    "\n",
    "model.compile(optimizer=AdamW(learning_rate=WarmupExponentialDecay(dataset_length=len(train_dataset),\n",
    "                                                                   initial_learning_rate=1e-5, )),\n",
    "              loss=rmse,\n",
    "              metrics=[nse]\n",
    "              )\n",
    "model.fit(train_dataset,\n",
    "          epochs=60,\n",
    "          verbose=1,\n",
    "          # shuffle=True,\n",
    "          # validation_data=test_dataset,\n",
    "          callbacks=callback_for_features_selection()) "
   ],
   "id": "bbd1bdf503a31aa3",
   "outputs": [
    {
     "name": "stdout",
     "output_type": "stream",
     "text": [
      "Epoch 1/60\n",
      "\u001B[1m251/267\u001B[0m \u001B[32m━━━━━━━━━━━━━━━━━━\u001B[0m\u001B[37m━━\u001B[0m \u001B[1m57s\u001B[0m 4s/step - loss: 0.2317 - nse: 13026.5459 "
     ]
    }
   ],
   "execution_count": null
  }
 ],
 "metadata": {
  "kernelspec": {
   "display_name": "Python 3",
   "language": "python",
   "name": "python3"
  },
  "language_info": {
   "codemirror_mode": {
    "name": "ipython",
    "version": 2
   },
   "file_extension": ".py",
   "mimetype": "text/x-python",
   "name": "python",
   "nbconvert_exporter": "python",
   "pygments_lexer": "ipython2",
   "version": "2.7.6"
  }
 },
 "nbformat": 4,
 "nbformat_minor": 5
}
