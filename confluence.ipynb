{
 "cells": [
  {
   "cell_type": "code",
   "id": "initial_id",
   "metadata": {
    "collapsed": true,
    "ExecuteTime": {
     "end_time": "2024-10-31T12:59:34.453279Z",
     "start_time": "2024-10-31T12:59:34.393907Z"
    }
   },
   "source": [
    "import numpy as np\n",
    "import matplotlib.pyplot as plt\n",
    "import ipywidgets as widgets\n",
    "from ipywidgets import interact\n",
    "\n",
    "# 定义脉冲响应函数 h(x,t)\n",
    "def pulse_response(x, t, C, D):\n",
    "    part1 = x / (2 * t * np.sqrt(np.pi * D * t))\n",
    "    part2 = np.exp(-((C * t - x) ** 2) / (4 * D * t))\n",
    "    return part1 * part2\n",
    "\n",
    "# 定义交互绘图函数\n",
    "def plot_pulse_response(C, D, t):\n",
    "    x = np.linspace(0, 50, 500)  # 空间距离从0到50\n",
    "    h_vals = pulse_response(x, t, C, D)\n",
    "\n",
    "    plt.figure(figsize=(8, 6))\n",
    "    plt.plot(x, h_vals, label=f'C={C}, D={D}, t={t}')\n",
    "    plt.xlabel('距离 x')\n",
    "    plt.ylabel('h(x,t)')\n",
    "    # 设置x轴范围\n",
    "    plt.xlim(0, 50)\n",
    "    # 设置y轴范围\n",
    "    plt.ylim(0, 0.2)\n",
    "    plt.grid(False)\n",
    "    plt.show()\n",
    "\n",
    "# 创建交互式控件\n",
    "C_slider = widgets.FloatSlider(value=2, min=0.1, max=5, step=0.1, description='C: 流速')\n",
    "D_slider = widgets.FloatSlider(value=1, min=0.1, max=5, step=0.1, description='D: 扩散系数')\n",
    "t_slider = widgets.FloatSlider(value=10, min=1, max=20, step=1, description='t: 时间')\n",
    "\n",
    "# 使用interact控制滑块\n",
    "interact(plot_pulse_response, C=C_slider, D=D_slider, t=t_slider)"
   ],
   "outputs": [
    {
     "data": {
      "text/plain": [
       "interactive(children=(FloatSlider(value=2.0, description='C: 流速', max=5.0, min=0.1), FloatSlider(value=1.0, de…"
      ],
      "application/vnd.jupyter.widget-view+json": {
       "version_major": 2,
       "version_minor": 0,
       "model_id": "a41a3505a48d4d1187dd73c5f7a28bf7"
      }
     },
     "metadata": {},
     "output_type": "display_data"
    },
    {
     "data": {
      "text/plain": [
       "<function __main__.plot_pulse_response(C, D, t)>"
      ]
     },
     "execution_count": 2,
     "metadata": {},
     "output_type": "execute_result"
    }
   ],
   "execution_count": 2
  },
  {
   "metadata": {
    "ExecuteTime": {
     "end_time": "2024-10-31T13:04:16.581865Z",
     "start_time": "2024-10-31T13:04:16.579472Z"
    }
   },
   "cell_type": "code",
   "source": [
    "# 查看x对应的y值\n",
    "x = np.linspace(0, 50, 500)\n",
    "y = pulse_response(x,\n",
    "                   t=11\n",
    "                     , C=0.7, D=4.3)"
   ],
   "id": "6726518e3d0353b6",
   "outputs": [],
   "execution_count": 5
  }
 ],
 "metadata": {
  "kernelspec": {
   "display_name": "Python 3",
   "language": "python",
   "name": "python3"
  },
  "language_info": {
   "codemirror_mode": {
    "name": "ipython",
    "version": 2
   },
   "file_extension": ".py",
   "mimetype": "text/x-python",
   "name": "python",
   "nbconvert_exporter": "python",
   "pygments_lexer": "ipython2",
   "version": "2.7.6"
  }
 },
 "nbformat": 4,
 "nbformat_minor": 5
}
