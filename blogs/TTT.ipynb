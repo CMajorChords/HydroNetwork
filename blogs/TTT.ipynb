{
 "cells": [
  {
   "metadata": {},
   "cell_type": "markdown",
   "source": [
    "# TTT：描述流域状态高度非线性变化的新工具？\n",
    "自Transformer出现后，[Attention is All You Need](https://arxiv.org/abs/1706.03762)似乎变成了解决NLP和CV问题的终极办法。然而Transformer这种通用模型很难从结构设计的角度证明它能很好的用于水文过程建模。因为其中似乎缺少对于水文过程上的科学描述，甚至是直觉描述。也许TTT能解决这一问题？行文至此我并没有一个明确的答案，但是我希望通过这篇文章来学习[TTT模型](https://arxiv.org/abs/2407.04620https://arxiv.org/abs/2407.04620)的基本原理，以及它是否能够应用于水文过程建模。"
   ],
   "id": "d83ec3515620584b"
  },
  {
   "metadata": {},
   "cell_type": "markdown",
   "source": "",
   "id": "d243a64ad8d633b5"
  }
 ],
 "metadata": {
  "kernelspec": {
   "display_name": "Python 3",
   "language": "python",
   "name": "python3"
  },
  "language_info": {
   "codemirror_mode": {
    "name": "ipython",
    "version": 2
   },
   "file_extension": ".py",
   "mimetype": "text/x-python",
   "name": "python",
   "nbconvert_exporter": "python",
   "pygments_lexer": "ipython2",
   "version": "2.7.6"
  }
 },
 "nbformat": 4,
 "nbformat_minor": 5
}
